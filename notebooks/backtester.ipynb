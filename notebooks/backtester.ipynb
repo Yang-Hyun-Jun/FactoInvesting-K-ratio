{
 "cells": [
  {
   "cell_type": "code",
   "execution_count": 1,
   "metadata": {},
   "outputs": [],
   "source": [
    "import os\n",
    "\n",
    "os.chdir('/home/hyunjun/workspace/backtester')"
   ]
  },
  {
   "cell_type": "code",
   "execution_count": 2,
   "metadata": {},
   "outputs": [],
   "source": [
    "import pandas as pd\n",
    "import numpy as np\n",
    "import matplotlib.pyplot as plt\n",
    "\n",
    "np.set_printoptions(suppress=True)"
   ]
  },
  {
   "cell_type": "code",
   "execution_count": null,
   "metadata": {},
   "outputs": [],
   "source": [
    "universe = pd.read_csv('data/price.csv', index_col=0)"
   ]
  },
  {
   "cell_type": "code",
   "execution_count": 8,
   "metadata": {},
   "outputs": [],
   "source": [
    "from typing import List\n",
    "from typing import Tuple\n",
    "from typing import Iterable\n",
    "\n",
    "class Portfolio:\n",
    "    def __init__(self, ticker:Iterable[str], weight:Iterable[float]):\n",
    "        self.ticker = np.array(ticker)\n",
    "        self.weight = np.array(self.__con(weight))\n",
    "        self.dict = self.__get_dict()\n",
    "    \n",
    "    def update_weight(self, weight:Iterable[float]):\n",
    "        self.weight = np.array(self.__con(weight))\n",
    "        self.dict = self.__get_dict()\n",
    "\n",
    "    def update_ticker(self, ticker:Iterable[str]):\n",
    "        self.ticker = np.array(ticker)\n",
    "        self.dict = self.__get_dict()\n",
    "\n",
    "    def __repr__(self) -> str:\n",
    "        return f\"{self.dict}\"\n",
    "\n",
    "    def __len__(self) -> int:\n",
    "        return len(self.dict)\n",
    "\n",
    "    def __get_dict(self) -> dict:\n",
    "        return dict(zip(self.ticker, self.weight))\n",
    "    \n",
    "    def __con(self, w):\n",
    "        if np.sum(w, dtype=np.float16) != 1.0:\n",
    "            raise Exception('Sum to One Error')\n",
    "        return w \n",
    "    \n",
    "class Order: \n",
    "    def __init__(self):\n",
    "        self.ticker = np.array([])\n",
    "        self.size = np.array([]) \n",
    "        self.dict = self.__get_dict()\n",
    "\n",
    "    def append(self, ticker:Iterable[str], size:Iterable[float]):\n",
    "        self.ticker = np.append(self.ticker, ticker)\n",
    "        self.size = np.append(self.size, size)\n",
    "        self.dict = self.__get_dict()\n",
    "\n",
    "    def __repr__(self) -> str:\n",
    "        return f\"{self.dict}\"\n",
    "    \n",
    "    def __get_dict(self) -> dict:\n",
    "        return dict(zip(self.ticker, self.size))"
   ]
  },
  {
   "attachments": {},
   "cell_type": "markdown",
   "metadata": {},
   "source": [
    "### Line By Line"
   ]
  },
  {
   "cell_type": "code",
   "execution_count": 546,
   "metadata": {},
   "outputs": [],
   "source": [
    "balance = np.float64(1000000)\n",
    "portfolio_value = np.float64(1000000)"
   ]
  },
  {
   "cell_type": "code",
   "execution_count": 547,
   "metadata": {},
   "outputs": [
    {
     "data": {
      "text/plain": [
       "{'A': 0.2, 'B': 0.2, 'C': 0.2, 'D': 0.2, 'E': 0.2}"
      ]
     },
     "execution_count": 547,
     "metadata": {},
     "output_type": "execute_result"
    }
   ],
   "source": [
    "# 첫달 전량 매수 order\n",
    "\n",
    "balance = np.float64(0)\n",
    "\n",
    "p_old = Portfolio(['A', 'B', 'C', 'D', 'E'], [1/5, 1/5, 1/5, 1/5, 1/5])\n",
    "p_old"
   ]
  },
  {
   "cell_type": "code",
   "execution_count": 548,
   "metadata": {},
   "outputs": [
    {
     "data": {
      "text/plain": [
       "{'A': 0.20244018254340124, 'B': 0.1906886851515448, 'C': 0.20711487908014553, 'D': 0.18906248383490354, 'E': 0.21069376939000492}"
      ]
     },
     "execution_count": 548,
     "metadata": {},
     "output_type": "execute_result"
    }
   ],
   "source": [
    "# 두번째달 가격 변동으로 인한 포트폴리오 변화\n",
    "\n",
    "price_old = universe.loc['1980-12-31', p_old.ticker].values\n",
    "price_now = universe.loc['1981-01-31', p_old.ticker].values\n",
    "\n",
    "returns = np.float64((price_now - price_old) / price_old)\n",
    "returns = np.where(np.isnan(returns), np.float64(-0.99), returns)\n",
    "\n",
    "changed_weight = p_old.weight * (1 + returns) / np.sum(p_old.weight * (1 + returns))\n",
    "\n",
    "p_old.update_weight(changed_weight)\n",
    "p_old"
   ]
  },
  {
   "cell_type": "code",
   "execution_count": 549,
   "metadata": {},
   "outputs": [
    {
     "data": {
      "text/plain": [
       "(952014.4022564272, -4.7985597743572805)"
      ]
     },
     "execution_count": 549,
     "metadata": {},
     "output_type": "execute_result"
    }
   ],
   "source": [
    "# 두번째달 가격 변동으로 인한 포트폴리오 평가금액, 수익률 계산\n",
    "\n",
    "pv = np.dot(portfolio_value * p_old.weight, 1 + returns)\n",
    "pf = ((pv / 1000000) -1) * 100\n",
    "\n",
    "pv, pf"
   ]
  },
  {
   "cell_type": "code",
   "execution_count": 550,
   "metadata": {},
   "outputs": [
    {
     "data": {
      "text/plain": [
       "{'A': 0.2, 'F': 0.2, 'C': 0.2, 'D': 0.2, 'E': 0.2}"
      ]
     },
     "execution_count": 550,
     "metadata": {},
     "output_type": "execute_result"
    }
   ],
   "source": [
    "# 두번째달, 달라진 포트폴리오 종목\n",
    "\n",
    "p_new = Portfolio(['A', 'F', 'C', 'D', 'E'], [1/5, 1/5, 1/5, 1/5, 1/5]) \n",
    "p_new"
   ]
  },
  {
   "cell_type": "code",
   "execution_count": 551,
   "metadata": {},
   "outputs": [],
   "source": [
    "# Gap 계산 대상\n",
    "gap_ticker = p_old.ticker[np.isin(p_old.ticker, p_new.ticker)] \n",
    "\n",
    "# Gap 사이즈\n",
    "gap_size = p_new.weight[np.isin(p_old.ticker, p_new.ticker)] - \\\n",
    "    p_old.weight[np.isin(p_old.ticker, p_new.ticker)]\n",
    "\n",
    "# 매도 대상\n",
    "sell_ticker = p_old.ticker[~ np.isin(p_old.ticker, p_new.ticker)]\n",
    "\n",
    "# 매도 대상 사이즈\n",
    "sell_size = -p_old.weight[~ np.isin(p_old.ticker, p_new.ticker)]\n",
    "\n",
    "# 매수 대상\n",
    "buy_ticker = p_new.ticker[~ np.isin(p_new.ticker, p_old.ticker)]\n",
    "\n",
    "# 매수 대상 사이즈\n",
    "buy_size = p_new.weight[~ np.isin(p_new.ticker, p_old.ticker)]"
   ]
  },
  {
   "cell_type": "code",
   "execution_count": 552,
   "metadata": {},
   "outputs": [
    {
     "data": {
      "text/plain": [
       "{'A': -0.002440182543401226, 'C': -0.00711487908014552, 'D': 0.010937516165096473, 'E': -0.010693769390004909, 'B': -0.1906886851515448, 'F': 0.2}"
      ]
     },
     "execution_count": 552,
     "metadata": {},
     "output_type": "execute_result"
    }
   ],
   "source": [
    "# 거래해야할 비중 계산하기\n",
    "\n",
    "order = Order()\n",
    "\n",
    "gap_order = (gap_ticker, gap_size)\n",
    "sell_order = (sell_ticker, sell_size)\n",
    "buy_order = (buy_ticker, buy_size)\n",
    "\n",
    "order.append(*gap_order)\n",
    "order.append(*sell_order)\n",
    "order.append(*buy_order)\n",
    "\n",
    "order"
   ]
  },
  {
   "cell_type": "code",
   "execution_count": 553,
   "metadata": {},
   "outputs": [
    {
     "data": {
      "text/plain": [
       "{'A': 0.20244018254340124,\n",
       " 'C': 0.20711487908014553,\n",
       " 'D': 0.18906248383490354,\n",
       " 'E': 0.21069376939000492,\n",
       " 'B': 0.1906886851515448,\n",
       " 'F': 0.0}"
      ]
     },
     "execution_count": 553,
     "metadata": {},
     "output_type": "execute_result"
    }
   ],
   "source": [
    "# 보유하고 있는 종목과 보유할 종목을 combine 해놓기\n",
    "\n",
    "combine = {}.fromkeys(order.ticker, 0.0)\n",
    "combine.update(p_old.dict)\n",
    "\n",
    "weight = np.fromiter(combine.values(), dtype=np.float64)\n",
    "combine"
   ]
  },
  {
   "cell_type": "code",
   "execution_count": 554,
   "metadata": {},
   "outputs": [
    {
     "data": {
      "text/plain": [
       "array([1388.,  939., 3499., 6801.,  234., 1170.])"
      ]
     },
     "execution_count": 554,
     "metadata": {},
     "output_type": "execute_result"
    }
   ],
   "source": [
    "closing_price = universe.loc['1981-01-31', order.ticker].values\n",
    "closing_price"
   ]
  },
  {
   "cell_type": "code",
   "execution_count": 555,
   "metadata": {},
   "outputs": [],
   "source": [
    "\"\"\"\n",
    "주문 집행\n",
    "\n",
    "(1) 매도 주문의 경우 잔량 없이 종가에 체결된다고 가정\n",
    "(2) 매수 주문의 경우 잔고가 없는 경우에는 체결이 안될 수 있음\n",
    "(3) 매수 주문의 경우 잔고에 각 매수 종목의 매수 금액 비율을 곱하여 매수 가능 금액 계산\n",
    "\"\"\"\n",
    "CHARGE = 0.001 #0.001\n",
    "TEX = 0.0025 #0.0025\n",
    "FEE = 0.0\n",
    "\n",
    "sell_cost = CHARGE + TEX\n",
    "buy_cost = CHARGE\n",
    "\n",
    "action = order.size\n",
    "\n",
    "# 매도 주문부터\n",
    "sell_ind = np.where( (action < 0) )[0]\n",
    "weight[sell_ind] += action[sell_ind]\n",
    "sell_moneys = portfolio_value * abs(action[sell_ind]) * (1.0-sell_cost)\n",
    "sell_amount = np.sum(sell_moneys) \n",
    "balance += sell_amount\n",
    "FEE += sell_amount * sell_cost\n",
    "\n",
    "# 매수 주문 처리\n",
    "buy_ind = np.where( (action > 0) )[0]\n",
    "buy_moneys = portfolio_value * action[buy_ind] * (1.0+buy_cost)\n",
    "buy_amount = np.sum(buy_moneys) \n",
    "\n",
    "allocation = buy_moneys / buy_amount\n",
    "\n",
    "buy_fee = balance * (buy_cost/(1+buy_cost)) \n",
    "feasible_buy_moneys = (balance - buy_fee) * allocation \n",
    "feasible_buy_amount = np.sum(feasible_buy_moneys)\n",
    "feasible_buy_action = feasible_buy_moneys / portfolio_value\n",
    "FEE += feasible_buy_amount * buy_cost # (= buy_fee)\n",
    "\n",
    "weight[buy_ind] += feasible_buy_action\n",
    "weight = weight / np.sum(weight)\n",
    "\n",
    "portfolio_value -= FEE\n",
    "balance -= feasible_buy_amount "
   ]
  },
  {
   "cell_type": "code",
   "execution_count": 556,
   "metadata": {},
   "outputs": [],
   "source": [
    "# 거래 후 비중이 0보다 큰 (보유하고 있는) 종목만 모아서 새로운 포트폴리오로 업데이트\n",
    "\n",
    "p_old = Portfolio(order.ticker[weight>0], weight[weight>0])"
   ]
  },
  {
   "cell_type": "code",
   "execution_count": 557,
   "metadata": {},
   "outputs": [
    {
     "data": {
      "text/plain": [
       "{'A': 0.20018983412454824, 'C': 0.20018983412454824, 'D': 0.20014061780106815, 'E': 0.20018983412454824, 'F': 0.19928987982528704}"
      ]
     },
     "execution_count": 557,
     "metadata": {},
     "output_type": "execute_result"
    }
   ],
   "source": [
    "p_old"
   ]
  },
  {
   "attachments": {},
   "cell_type": "markdown",
   "metadata": {},
   "source": [
    "### Loop\n",
    "- 종목선택 함수만 끼우면 백테스팅 가능"
   ]
  },
  {
   "cell_type": "code",
   "execution_count": 12,
   "metadata": {},
   "outputs": [],
   "source": [
    "init_balance = 1000000\n",
    "portfolio_value = init_balance\n",
    "profitloss = 0\n",
    "balance = 0\n",
    "\n",
    "p_old = Portfolio(['A', 'B', 'C', 'D', 'E', 'K'], \n",
    "                  [1/6, 1/6, 1/6, 1/6, 1/6, 1/6])\n",
    "\n",
    "price_old = universe.iloc[0][p_old.ticker].values\n",
    "\n",
    "PVs = []\n",
    "PFs = []\n",
    "POs = []\n",
    "\n",
    "for i in range(1, 400):\n",
    "    POs.append(p_old.weight)\n",
    "    \n",
    "    # 여기는 get_price 함수로 (인자는 ticker 받도록)\n",
    "    price_old = universe.iloc[i-1][p_old.ticker].values\n",
    "    price_now = universe.iloc[i][p_old.ticker].values\n",
    "\n",
    "    # 다음 타임 스텝에서 가격 변동으로 인한 포트폴리오 변화\n",
    "    ratio = (price_now - price_old) / price_old\n",
    "    ratio = np.where(np.isnan(ratio), np.float64(-0.99), ratio)\n",
    "    weight_now = p_old.weight * (1+ratio) \n",
    "    weight_now = weight_now / np.sum(weight_now)\n",
    "\n",
    "    p_old.update_weight(weight_now)\n",
    "    \n",
    "    # 다음 타입 스텝에서 가격 변동으로 인한 포트폴리오 평가금액, 수익률 계산\n",
    "    portfolio_value = np.dot(portfolio_value * p_old.weight, 1+ratio)\n",
    "    profitloss = ((portfolio_value / init_balance) -1) * 100\n",
    "\n",
    "    # Desired Portfolio\n",
    "    p_new = Portfolio(['A', 'F', 'C', 'G', 'E', 'S'], \n",
    "                      [1/6, 1/6, 1/6, 1/6, 1/6, 1/6])\n",
    "\n",
    "    \"\"\"\n",
    "    Order 계산\n",
    "    \"\"\"\n",
    "    # Gap 계산 대상\n",
    "    gap_ticker = p_old.ticker[np.isin(p_old.ticker, p_new.ticker)] \n",
    "\n",
    "    # Gap 사이즈\n",
    "    gap_size = p_new.weight[np.isin(p_old.ticker, p_new.ticker)] - \\\n",
    "        p_old.weight[np.isin(p_old.ticker, p_new.ticker)]\n",
    "    \n",
    "    # 매도 대상\n",
    "    sell_ticker = p_old.ticker[~ np.isin(p_old.ticker, p_new.ticker)]\n",
    "\n",
    "    # 매도 대상 사이즈\n",
    "    sell_size = -p_old.weight[~ np.isin(p_old.ticker, p_new.ticker)]\n",
    "\n",
    "    # 매수 대상\n",
    "    buy_ticker = p_new.ticker[~ np.isin(p_new.ticker, p_old.ticker)]\n",
    "\n",
    "    # 매수 대상 사이즈\n",
    "    buy_size = p_new.weight[~ np.isin(p_new.ticker, p_old.ticker)]\n",
    "\n",
    "    # 오더\n",
    "    order = Order()\n",
    "\n",
    "    gap_order = (gap_ticker, gap_size)\n",
    "    sell_order = (sell_ticker, sell_size)\n",
    "    buy_order = (buy_ticker, buy_size)\n",
    "\n",
    "    order.append(*gap_order)\n",
    "    order.append(*sell_order)\n",
    "    order.append(*buy_order)\n",
    "        \n",
    "    # 보유하고 있는 종목과 보유할 종목을 combine 해놓기\n",
    "    combine = {}.fromkeys(order.ticker, 0.0)\n",
    "    combine.update(p_old.dict)\n",
    "    weight = np.fromiter(combine.values(), dtype=np.float64)\n",
    "    \n",
    "    closing_price_all = universe.iloc[i][order.ticker].values\n",
    "\n",
    "    \"\"\"\n",
    "    주문 집행\n",
    "    \"\"\"\n",
    "    CHARGE = 0.00 #0.001\n",
    "    TEX = 0.00 #0.0025\n",
    "    FEE = 0.0\n",
    "\n",
    "    sell_cost = CHARGE + TEX\n",
    "    buy_cost = CHARGE\n",
    "\n",
    "    action = order.size\n",
    "\n",
    "    # 매도 주문부터\n",
    "    sell_ind = np.where( (action < 0) )[0]\n",
    "    weight[sell_ind] += action[sell_ind]\n",
    "    sell_moneys = portfolio_value * abs(action[sell_ind]) * (1.0-sell_cost)\n",
    "    sell_amount = np.sum(sell_moneys) \n",
    "    balance += sell_amount\n",
    "    FEE += sell_amount * sell_cost\n",
    "\n",
    "    # 매수 주문 처리\n",
    "    buy_ind = np.where( (action > 0) )[0]\n",
    "    buy_moneys = portfolio_value * action[buy_ind] * (1.0+buy_cost)\n",
    "    buy_amount = np.sum(buy_moneys) \n",
    "\n",
    "    allocation = buy_moneys / buy_amount\n",
    "\n",
    "    buy_fee = balance * (buy_cost/(1+buy_cost)) \n",
    "    feasible_buy_moneys = (balance - buy_fee) * allocation \n",
    "    feasible_buy_amount = np.sum(feasible_buy_moneys)\n",
    "    feasible_buy_action = feasible_buy_moneys / portfolio_value\n",
    "    FEE += feasible_buy_amount * buy_cost # (= buy_fee)\n",
    "\n",
    "    weight[buy_ind] += feasible_buy_action\n",
    "    weight = weight / np.sum(weight)\n",
    "\n",
    "    portfolio_value -= FEE\n",
    "    balance -= feasible_buy_amount \n",
    "\n",
    "    p_old = Portfolio(order.ticker[weight>0], weight[weight>0])\n",
    "\n",
    "    PVs.append(portfolio_value)\n",
    "    PFs.append(profitloss)"
   ]
  },
  {
   "cell_type": "code",
   "execution_count": 13,
   "metadata": {},
   "outputs": [
    {
     "data": {
      "text/plain": [
       "[<matplotlib.lines.Line2D at 0x7f4a2e92fc40>]"
      ]
     },
     "execution_count": 13,
     "metadata": {},
     "output_type": "execute_result"
    },
    {
     "data": {
      "image/png": "[encoded data removed]",
      "text/plain": [
       "<Figure size 640x480 with 1 Axes>"
      ]
     },
     "metadata": {},
     "output_type": "display_data"
    }
   ],
   "source": [
    "plt.plot(PVs)"
   ]
  },
  {
   "cell_type": "code",
   "execution_count": 11,
   "metadata": {},
   "outputs": [
    {
     "data": {
      "text/html": [
       "<div>\n",
       "<style scoped>\n",
       "    .dataframe tbody tr th:only-of-type {\n",
       "        vertical-align: middle;\n",
       "    }\n",
       "\n",
       "    .dataframe tbody tr th {\n",
       "        vertical-align: top;\n",
       "    }\n",
       "\n",
       "    .dataframe thead th {\n",
       "        text-align: right;\n",
       "    }\n",
       "</style>\n",
       "<table border=\"1\" class=\"dataframe\">\n",
       "  <thead>\n",
       "    <tr style=\"text-align: right;\">\n",
       "      <th></th>\n",
       "      <th>0</th>\n",
       "      <th>1</th>\n",
       "      <th>2</th>\n",
       "      <th>3</th>\n",
       "      <th>4</th>\n",
       "      <th>5</th>\n",
       "    </tr>\n",
       "  </thead>\n",
       "  <tbody>\n",
       "    <tr>\n",
       "      <th>0</th>\n",
       "      <td>0.166667</td>\n",
       "      <td>0.166667</td>\n",
       "      <td>0.166667</td>\n",
       "      <td>0.166667</td>\n",
       "      <td>0.166667</td>\n",
       "      <td>0.166667</td>\n",
       "    </tr>\n",
       "    <tr>\n",
       "      <th>1</th>\n",
       "      <td>0.166667</td>\n",
       "      <td>0.166667</td>\n",
       "      <td>0.166667</td>\n",
       "      <td>0.166667</td>\n",
       "      <td>0.166667</td>\n",
       "      <td>0.166667</td>\n",
       "    </tr>\n",
       "    <tr>\n",
       "      <th>2</th>\n",
       "      <td>0.166667</td>\n",
       "      <td>0.166667</td>\n",
       "      <td>0.166667</td>\n",
       "      <td>0.166667</td>\n",
       "      <td>0.166667</td>\n",
       "      <td>0.166667</td>\n",
       "    </tr>\n",
       "    <tr>\n",
       "      <th>3</th>\n",
       "      <td>0.166667</td>\n",
       "      <td>0.166667</td>\n",
       "      <td>0.166667</td>\n",
       "      <td>0.166667</td>\n",
       "      <td>0.166667</td>\n",
       "      <td>0.166667</td>\n",
       "    </tr>\n",
       "    <tr>\n",
       "      <th>4</th>\n",
       "      <td>0.166667</td>\n",
       "      <td>0.166667</td>\n",
       "      <td>0.166667</td>\n",
       "      <td>0.166667</td>\n",
       "      <td>0.166667</td>\n",
       "      <td>0.166667</td>\n",
       "    </tr>\n",
       "    <tr>\n",
       "      <th>...</th>\n",
       "      <td>...</td>\n",
       "      <td>...</td>\n",
       "      <td>...</td>\n",
       "      <td>...</td>\n",
       "      <td>...</td>\n",
       "      <td>...</td>\n",
       "    </tr>\n",
       "    <tr>\n",
       "      <th>394</th>\n",
       "      <td>0.166667</td>\n",
       "      <td>0.166667</td>\n",
       "      <td>0.166667</td>\n",
       "      <td>0.166667</td>\n",
       "      <td>0.166667</td>\n",
       "      <td>0.166667</td>\n",
       "    </tr>\n",
       "    <tr>\n",
       "      <th>395</th>\n",
       "      <td>0.166667</td>\n",
       "      <td>0.166667</td>\n",
       "      <td>0.166667</td>\n",
       "      <td>0.166667</td>\n",
       "      <td>0.166667</td>\n",
       "      <td>0.166667</td>\n",
       "    </tr>\n",
       "    <tr>\n",
       "      <th>396</th>\n",
       "      <td>0.166667</td>\n",
       "      <td>0.166667</td>\n",
       "      <td>0.166667</td>\n",
       "      <td>0.166667</td>\n",
       "      <td>0.166667</td>\n",
       "      <td>0.166667</td>\n",
       "    </tr>\n",
       "    <tr>\n",
       "      <th>397</th>\n",
       "      <td>0.166667</td>\n",
       "      <td>0.166667</td>\n",
       "      <td>0.166667</td>\n",
       "      <td>0.166667</td>\n",
       "      <td>0.166667</td>\n",
       "      <td>0.166667</td>\n",
       "    </tr>\n",
       "    <tr>\n",
       "      <th>398</th>\n",
       "      <td>0.166667</td>\n",
       "      <td>0.166667</td>\n",
       "      <td>0.166667</td>\n",
       "      <td>0.166667</td>\n",
       "      <td>0.166667</td>\n",
       "      <td>0.166667</td>\n",
       "    </tr>\n",
       "  </tbody>\n",
       "</table>\n",
       "<p>399 rows × 6 columns</p>\n",
       "</div>"
      ],
      "text/plain": [
       "            0         1         2         3         4         5\n",
       "0    0.166667  0.166667  0.166667  0.166667  0.166667  0.166667\n",
       "1    0.166667  0.166667  0.166667  0.166667  0.166667  0.166667\n",
       "2    0.166667  0.166667  0.166667  0.166667  0.166667  0.166667\n",
       "3    0.166667  0.166667  0.166667  0.166667  0.166667  0.166667\n",
       "4    0.166667  0.166667  0.166667  0.166667  0.166667  0.166667\n",
       "..        ...       ...       ...       ...       ...       ...\n",
       "394  0.166667  0.166667  0.166667  0.166667  0.166667  0.166667\n",
       "395  0.166667  0.166667  0.166667  0.166667  0.166667  0.166667\n",
       "396  0.166667  0.166667  0.166667  0.166667  0.166667  0.166667\n",
       "397  0.166667  0.166667  0.166667  0.166667  0.166667  0.166667\n",
       "398  0.166667  0.166667  0.166667  0.166667  0.166667  0.166667\n",
       "\n",
       "[399 rows x 6 columns]"
      ]
     },
     "execution_count": 11,
     "metadata": {},
     "output_type": "execute_result"
    }
   ],
   "source": [
    "pd.DataFrame(POs)"
   ]
  },
  {
   "cell_type": "code",
   "execution_count": null,
   "metadata": {},
   "outputs": [],
   "source": []
  }
 ],
 "metadata": {
  "kernelspec": {
   "display_name": "factor",
   "language": "python",
   "name": "python3"
  },
  "language_info": {
   "codemirror_mode": {
    "name": "ipython",
    "version": 3
   },
   "file_extension": ".py",
   "mimetype": "text/x-python",
   "name": "python",
   "nbconvert_exporter": "python",
   "pygments_lexer": "ipython3",
   "version": "3.9.16"
  },
  "orig_nbformat": 4,
  "vscode": {
   "interpreter": {
    "hash": "f51e0da3e3d90447dcadba55e0cb4a38546033c4e076c9d4b80673409e62cb43"
   }
  }
 },
 "nbformat": 4,
 "nbformat_minor": 2
}
